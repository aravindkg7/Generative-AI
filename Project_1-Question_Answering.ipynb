{
 "cells": [
  {
   "cell_type": "markdown",
   "id": "640e4bbc",
   "metadata": {},
   "source": [
    "# Project 1: Question-Answering"
   ]
  },
  {
   "cell_type": "markdown",
   "id": "53c7800b",
   "metadata": {},
   "source": [
    "#### This OLP based code demonstrates the working of Question-Answering project by reading either a pdf file or a wikipedia link and subsequently answering questions on the same"
   ]
  },
  {
   "cell_type": "code",
   "execution_count": 2,
   "id": "b748fd20",
   "metadata": {},
   "outputs": [
    {
     "data": {
      "text/plain": [
       "True"
      ]
     },
     "execution_count": 2,
     "metadata": {},
     "output_type": "execute_result"
    }
   ],
   "source": [
    "import os\n",
    "from dotenv import load_dotenv, find_dotenv\n",
    "load_dotenv(find_dotenv(), override=True)"
   ]
  },
  {
   "cell_type": "code",
   "execution_count": 2,
   "id": "f13727cc",
   "metadata": {},
   "outputs": [
    {
     "name": "stdout",
     "output_type": "stream",
     "text": [
      "Note: you may need to restart the kernel to use updated packages.\n"
     ]
    }
   ],
   "source": [
    "pip install pypdf -q"
   ]
  },
  {
   "cell_type": "code",
   "execution_count": 3,
   "id": "111f6b22",
   "metadata": {},
   "outputs": [
    {
     "name": "stdout",
     "output_type": "stream",
     "text": [
      "Note: you may need to restart the kernel to use updated packages.\n"
     ]
    }
   ],
   "source": [
    "pip install wikipedia -q"
   ]
  },
  {
   "cell_type": "markdown",
   "id": "07900179",
   "metadata": {},
   "source": [
    "#### Functions to Read Documents"
   ]
  },
  {
   "cell_type": "code",
   "execution_count": 11,
   "id": "e1ae19b5",
   "metadata": {},
   "outputs": [],
   "source": [
    "# Read PDF document\n",
    "def read_PDF_document(file):\n",
    "    from langchain.document_loaders import PyPDFLoader\n",
    "    print(f'Reading {file} ...')\n",
    "    loader = PyPDFLoader(file)\n",
    "    prind('Done')                         \n",
    "    data = loader.load()\n",
    "    return data\n",
    "                             \n",
    "# Read wikipedia page and only 3 pages\n",
    "def read_from_wikipedia(query, lang='en', load_max_docs=3):\n",
    "    from langchain.document_loaders import WikipediaLoader\n",
    "    loader = WikipediaLoader(query=query, lang=lang, load_max_docs=load_max_docs)\n",
    "    data = loader.load()\n",
    "    return data"
   ]
  },
  {
   "cell_type": "markdown",
   "id": "367bb8ad",
   "metadata": {},
   "source": [
    "#### Function to Chunk Data"
   ]
  },
  {
   "cell_type": "code",
   "execution_count": 15,
   "id": "62c3cb39",
   "metadata": {},
   "outputs": [],
   "source": [
    "def chunk_data(data, chunk_size=256):\n",
    "    from langchain.text_splitter import RecursiveCharacterTextSplitter\n",
    "    text_splitter = RecursiveCharacterTextSplitter(chunk_size=chunk_size, chunk_overlap=0)\n",
    "    chunks = text_splitter.split_documents(data)\n",
    "    return chunks"
   ]
  },
  {
   "cell_type": "markdown",
   "id": "27f92afa",
   "metadata": {},
   "source": [
    "#### Functions to Embed the data, Upload to a Vector Database and Delete the index"
   ]
  },
  {
   "cell_type": "code",
   "execution_count": 20,
   "id": "0c72c3cf",
   "metadata": {},
   "outputs": [
    {
     "name": "stderr",
     "output_type": "stream",
     "text": [
      "C:\\Users\\Aravind\\anaconda3\\lib\\site-packages\\pinecone\\index.py:4: TqdmExperimentalWarning: Using `tqdm.autonotebook.tqdm` in notebook mode. Use `tqdm.tqdm` instead to force console mode (e.g. in jupyter console)\n",
      "  from tqdm.autonotebook import tqdm\n"
     ]
    }
   ],
   "source": [
    "import pinecone\n",
    "pinecone.init(api_key=os.environ.get('PINECONE_API_KEY'), environment=os.environ.get('PINECONE_ENV'))\n",
    "\n",
    "def insert_or_fetch_embeddings(index_name, chunks):    \n",
    "    from langchain.vectorstores import Pinecone\n",
    "    from langchain.embeddings.openai import OpenAIEmbeddings\n",
    "    \n",
    "    embeddings = OpenAIEmbeddings()\n",
    "    \n",
    "    if index_name in pinecone.list_indexes():\n",
    "        print(f'Index {index_name} already exists. Loading embeddings')\n",
    "        vector_store = Pinecone.from_existing_index(index_name, embeddings)\n",
    "        print('Done')\n",
    "    else:\n",
    "        print(f'Creating index {index_name} and embeddings')\n",
    "        pinecone.create_index(index_name, dimension=1536, metric='cosine')\n",
    "        vector_store = Pinecone.from_documents(chunks, embeddings, index_name=index_name)\n",
    "        print('Done')\n",
    "    return vector_store\n",
    "\n",
    "def delete_pinecone_index(index_name='all'):    \n",
    "    if index_name == 'all':\n",
    "        indexes = pinecone.list_indexes()\n",
    "        print('Deleting all indexes')\n",
    "        for index in indexes:\n",
    "            pinecone.delete_index(index)\n",
    "        print('Done')\n",
    "    else:\n",
    "        print(f'Deleting index {index_name}')\n",
    "        pinecone.delete_index(index_name)\n",
    "        print('Done')"
   ]
  },
  {
   "cell_type": "markdown",
   "id": "462a94cb",
   "metadata": {},
   "source": [
    "#### Function for asking questions and getting answers"
   ]
  },
  {
   "cell_type": "code",
   "execution_count": 26,
   "id": "08b0a508",
   "metadata": {},
   "outputs": [],
   "source": [
    "def question_answer(vector_store, query):\n",
    "    from langchain.chains import RetrievalQA\n",
    "    from langchain.chat_models import ChatOpenAI\n",
    "\n",
    "    llm = ChatOpenAI(model='gpt-3.5-turbo', temperature=1)\n",
    "\n",
    "    retriever = vector_store.as_retriever(search_type='similarity', search_kwargs={'k': 3})\n",
    "\n",
    "    chain = RetrievalQA.from_chain_type(llm=llm, chain_type=\"stuff\", retriever=retriever)\n",
    "    \n",
    "    answer = chain.run(query)\n",
    "    return answer  "
   ]
  },
  {
   "cell_type": "markdown",
   "id": "c1efe8fc",
   "metadata": {},
   "source": [
    "### Running Code"
   ]
  },
  {
   "cell_type": "code",
   "execution_count": 14,
   "id": "23fd7147",
   "metadata": {},
   "outputs": [
    {
     "name": "stdout",
     "output_type": "stream",
     "text": [
      "You have 3 pages in your data\n",
      "There are 4000 characters in the page\n"
     ]
    }
   ],
   "source": [
    "data = read_from_wikipedia('climate change')\n",
    "print(f'You have {len(data)} pages in your data')"
   ]
  },
  {
   "cell_type": "code",
   "execution_count": 21,
   "id": "d11b7652",
   "metadata": {},
   "outputs": [
    {
     "name": "stdout",
     "output_type": "stream",
     "text": [
      "In common usage, climate change describes global warming—the ongoing increase in global average temperature—and its effects on Earth's climate system. Climate change in a broader sense also includes previous long-term changes to Earth's climate. The current rise in global average temperature is more rapid than previous changes, and is primarily caused by humans burning fossil fuels. Fossil fuel use, deforestation, and some agricultural and industrial practices increase greenhouse gases, notably carbon dioxide and methane. Greenhouse gases absorb some of the heat that the Earth radiates after it warms from sunlight. Larger amounts of these gases trap more heat in Earth's lower atmosphere, causing global warming.\n",
      "Climate change is causing a range of increasing impacts on the environment. Deserts are expanding, while heat waves and wildfires are becoming more common. Amplified warming in the Arctic has contributed to melting permafrost, glacial retreat and sea ice loss. Higher temperatures are also causing more intense storms, droughts, and other weather extremes. Rapid environmental change in mountains, coral reefs, and the Arctic is forcing many species to relocate or become extinct. Even if efforts to minimise future warming are successful, some effects will continue for centuries. These include ocean heating, ocean acidification and sea level rise.Climate change threatens people with increased flooding, extreme heat, increased food and water scarcity, more disease, and economic loss. Human migration and conflict can also be a result. The World Health Organization (WHO) calls climate change the greatest threat to global health in the 21st century. Societies and ecosystems will experience more severe risks without action to limit warming. Adapting to climate change through efforts like flood control measures or drought-resistant crops partially reduces climate change risks, although some limits to adaptation have already been reached. Poorer communities are responsible for a small share of global emissions, yet have the least ability to adapt and are most vulnerable to climate change.Many climate change impacts are already felt at the current 1.2 °C (2.2 °F) level of warming. Additional warming will increase these impacts and can trigger tipping points, such as the melting of the Greenland ice sheet. Under the 2015 Paris Agreement, nations collectively agreed to keep warming \"well under 2 °C\". However, with pledges made under the Agreement, global warming would still reach about 2.7 °C (4.9 °F) by the end of the century. Limiting warming to 1.5 °C will require halving emissions by 2030 and achieving net-zero emissions by 2050.\n",
      "\n",
      "Reducing emissions requires generating electricity from low-carbon sources rather than burning fossil fuels. This change includes phasing out coal and natural gas fired power plants, vastly increasing use of wind, solar, nuclear and other types of renewable energy, and reducing energy use. Electricity generated from non-carbon-emitting sources will need to replace fossil fuels for powering transportation, heating buildings, and operating industrial facilities. Carbon can also be removed from the atmosphere, for instance by increasing forest cover and farming with methods that capture carbon in soil.\n",
      "\n",
      "\n",
      "== Terminology ==\n",
      "Before the 1980s, when it was unclear whether the warming effect of increased greenhouse gases were stronger than the cooling effect of airborne particulates in air pollution, scientists used the term inadvertent climate modification to refer to human impacts on the climate.In the 1980s, the terms global warming and climate change became more common. Though the two terms are sometimes used interchangeably, scientifically, global warming refers only to increased surface warming, while climate change describes the totality of changes to Earth's climate system. Global warming—used as early as 1975—became the more popular term after NASA climate scientist James Hansen used it in his 1988 testi\n"
     ]
    }
   ],
   "source": [
    "print(data[0].page_content)"
   ]
  },
  {
   "cell_type": "code",
   "execution_count": 22,
   "id": "64b5d7f5",
   "metadata": {},
   "outputs": [
    {
     "name": "stdout",
     "output_type": "stream",
     "text": [
      "57\n"
     ]
    }
   ],
   "source": [
    "chunks = chunk_data(data)\n",
    "print(len(chunks))"
   ]
  },
  {
   "cell_type": "code",
   "execution_count": 24,
   "id": "8525a620",
   "metadata": {},
   "outputs": [
    {
     "name": "stdout",
     "output_type": "stream",
     "text": [
      "Creating index langchain-pinecone and embeddings\n",
      "Done\n"
     ]
    }
   ],
   "source": [
    "index_name = 'langchain-pinecone'\n",
    "vector_store = insert_or_fetch_embeddings(index_name, chunks)"
   ]
  },
  {
   "cell_type": "code",
   "execution_count": 27,
   "id": "00ddb48f",
   "metadata": {},
   "outputs": [
    {
     "name": "stdout",
     "output_type": "stream",
     "text": [
      "Write Quit or Exit to quit.\n",
      "Question #1: What is the document about?\n",
      "\n",
      "Answer: I'm sorry, but without any specific document mentioned or provided, I cannot determine what the document is about. Could you please provide more information or context?\n",
      "\n",
      " ---------------------------------------------------------------------------------------------------- \n",
      "\n",
      "Question #2: What is climate change\n",
      "\n",
      "Answer: In common usage, climate change refers to the long-term changes in Earth's climate system, particularly the ongoing increase in global average temperature. It includes the effects of greenhouse gas emissions on the Earth's atmosphere, such as global warming, but can also encompass other changes in climate patterns and phenomena. These can include shifts in precipitation patterns, more frequent and intense extreme weather events, rising sea levels, and the loss of biodiversity.\n",
      "\n",
      " ---------------------------------------------------------------------------------------------------- \n",
      "\n",
      "Question #3: What are the effects of climate change to humans\n",
      "\n",
      "Answer: The effects of climate change on humans can be significant and wide-ranging. Some of the key impacts include:\n",
      "\n",
      "1. Health Risks: Climate change can lead to increased heatwaves, which can cause heat-related illnesses and death. It also contributes to the spread of infectious diseases such as malaria, dengue fever, and Lyme disease. Additionally, changing weather patterns can affect the availability and quality of food and water, leading to malnutrition and waterborne diseases.\n",
      "\n",
      "2. Natural Disasters: Climate change can lead to more frequent and intense extreme weather events like hurricanes, floods, and droughts. These events can cause widespread damage to infrastructure, displacement of communities, and loss of lives.\n",
      "\n",
      "3. Economic Loss: The numerous impacts of climate change, including damage from extreme weather events, loss of agricultural productivity, and rising sea levels can result in significant economic losses. This can affect industries, livelihoods, and national economies.\n",
      "\n",
      "4. Forced Migration and Conflict: As climate change impacts worsen, vulnerable populations may be forced to migrate due to environmental degradation, lack of resources, or loss of livelihood. This can create tensions and conflicts over resources in the receiving areas.\n",
      "\n",
      "5. Ecosystem Disruption: Climate change can disrupt ecosystems, leading to the extinction of plant and animal species. This can have cascading effects on biodiversity, food chains, and ecosystem services that humans depend on, such as clean water and pollination.\n",
      "\n",
      "It is important to note that these effects vary in magnitude and distribution across different regions and populations. The most vulnerable groups, including low-income communities, marginalized populations, and developing countries, tend to be disproportionately affected by climate change.\n",
      "\n",
      " ---------------------------------------------------------------------------------------------------- \n",
      "\n",
      "Question #4: Exit\n",
      "Exiting!\n"
     ]
    }
   ],
   "source": [
    "import time\n",
    "i = 1\n",
    "print('Write Quit or Exit to quit.')\n",
    "while True:\n",
    "    question = input(f'Question #{i}: ')\n",
    "    i = i + 1\n",
    "    if question.lower() in ['quit', 'exit']:\n",
    "        print('Exiting!')\n",
    "        time.sleep(2)\n",
    "        break\n",
    "    \n",
    "    answer = question_answer(vector_store, question)\n",
    "    print(f'\\nAnswer: {answer}')\n",
    "    print(f'\\n {\"-\" * 100} \\n')\n",
    "\n",
    "    "
   ]
  },
  {
   "cell_type": "code",
   "execution_count": 28,
   "id": "775915c4",
   "metadata": {},
   "outputs": [
    {
     "name": "stdout",
     "output_type": "stream",
     "text": [
      "Deleting all indexes\n",
      "Done\n"
     ]
    }
   ],
   "source": [
    "delete_pinecone_index()"
   ]
  },
  {
   "cell_type": "code",
   "execution_count": null,
   "id": "8a90e614",
   "metadata": {},
   "outputs": [],
   "source": []
  }
 ],
 "metadata": {
  "kernelspec": {
   "display_name": "Python 3 (ipykernel)",
   "language": "python",
   "name": "python3"
  },
  "language_info": {
   "codemirror_mode": {
    "name": "ipython",
    "version": 3
   },
   "file_extension": ".py",
   "mimetype": "text/x-python",
   "name": "python",
   "nbconvert_exporter": "python",
   "pygments_lexer": "ipython3",
   "version": "3.10.9"
  }
 },
 "nbformat": 4,
 "nbformat_minor": 5
}
