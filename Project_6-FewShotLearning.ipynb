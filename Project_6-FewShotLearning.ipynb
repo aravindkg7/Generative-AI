{
 "cells": [
  {
   "cell_type": "markdown",
   "metadata": {},
   "source": [
    "This code demonstrates LLMs capabilities to learn and answer questions using few examples with Few Shot Learning technique. Most part of the code is based on a course from ActiveLoop."
   ]
  },
  {
   "cell_type": "code",
   "execution_count": 1,
   "metadata": {},
   "outputs": [
    {
     "name": "stderr",
     "output_type": "stream",
     "text": [
      "d:\\Git\\Generative AI\\.venv\\lib\\site-packages\\deeplake\\util\\check_latest_version.py:32: UserWarning: A newer version of deeplake (3.8.8) is available. It's recommended that you update to the latest version using `pip install -U deeplake`.\n",
      "  warnings.warn(\n"
     ]
    }
   ],
   "source": [
    "from langchain import PromptTemplate, FewShotPromptTemplate, LLMChain\n",
    "from langchain.chat_models import ChatOpenAI\n",
    "from dotenv import load_dotenv, find_dotenv"
   ]
  },
  {
   "cell_type": "code",
   "execution_count": 2,
   "metadata": {},
   "outputs": [
    {
     "data": {
      "text/plain": [
       "True"
      ]
     },
     "execution_count": 2,
     "metadata": {},
     "output_type": "execute_result"
    }
   ],
   "source": [
    "import os\n",
    "load_dotenv(find_dotenv(), override=True)"
   ]
  },
  {
   "cell_type": "code",
   "execution_count": 6,
   "metadata": {},
   "outputs": [],
   "source": [
    "#Create examples\n",
    "examples = [\n",
    "    {\n",
    "        'query': 'How is the weather like?',\n",
    "        'answer': 'It is hot like in an oven, drink more liquids to be hydrated.'\n",
    "    },{\n",
    "        'query': 'What is your age?',\n",
    "        'answer': 'Age is just a number, but I\"m timeless.'\n",
    "    },{\n",
    "        'query': 'What is life?',\n",
    "        'answer': 'Life is like a garden with plants having flowers and thorns.'\n",
    "    }\n",
    "]\n",
    "\n",
    "#Create an example template\n",
    "example_template = \"\"\"\n",
    "User: {query}\n",
    "AI: {answer}\n",
    "\"\"\"\n",
    "\n",
    "#Create a prompt example from the above template\n",
    "prompt = PromptTemplate(\n",
    "    input_variables = ['query','answer'],\n",
    "    template = example_template\n",
    ")"
   ]
  },
  {
   "cell_type": "code",
   "execution_count": 7,
   "metadata": {},
   "outputs": [],
   "source": [
    "#Dissect the previous prompt into prefix and suffix\n",
    "prefix = '''The following are the excerpts from a conversation with an AI assistant. \n",
    "The assistant is known for its humor, providing entertaining responses to users\" questions.\n",
    "Here are some of the examples:\n",
    "'''\n",
    "suffix = '''\n",
    "User: {query} \n",
    "AI: '''"
   ]
  },
  {
   "cell_type": "code",
   "execution_count": 8,
   "metadata": {},
   "outputs": [],
   "source": [
    "#Create a few shot template \n",
    "few_shot_template = FewShotPromptTemplate(\n",
    "    examples = examples,\n",
    "    example_prompt = prompt,\n",
    "    prefix = prefix,\n",
    "    suffix = suffix,\n",
    "    input_variables = ['query'],\n",
    "    example_separator = \"\\n\\n\"\n",
    ")"
   ]
  },
  {
   "cell_type": "code",
   "execution_count": 9,
   "metadata": {},
   "outputs": [
    {
     "data": {
      "text/plain": [
       "\"A whale is a majestic creature that makes a big splash in the ocean. They're like the celebrities of the sea!\""
      ]
     },
     "execution_count": 9,
     "metadata": {},
     "output_type": "execute_result"
    }
   ],
   "source": [
    "#Load the model\n",
    "chat = ChatOpenAI(model='gpt-3.5-turbo', temperature=0.3)\n",
    "\n",
    "chain = LLMChain(llm=chat, prompt=few_shot_template)\n",
    "chain.run(\"What is a whale?\")"
   ]
  }
 ],
 "metadata": {
  "kernelspec": {
   "display_name": ".venv",
   "language": "python",
   "name": "python3"
  },
  "language_info": {
   "codemirror_mode": {
    "name": "ipython",
    "version": 3
   },
   "file_extension": ".py",
   "mimetype": "text/x-python",
   "name": "python",
   "nbconvert_exporter": "python",
   "pygments_lexer": "ipython3",
   "version": "3.10.9"
  }
 },
 "nbformat": 4,
 "nbformat_minor": 2
}
