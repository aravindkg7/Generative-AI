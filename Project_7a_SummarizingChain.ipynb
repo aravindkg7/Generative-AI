{
 "cells": [
  {
   "cell_type": "markdown",
   "metadata": {},
   "source": [
    "This code demonstrates Summarizing Chain. Most part of the code is based on a course from ActiveLoop."
   ]
  },
  {
   "cell_type": "code",
   "execution_count": 3,
   "metadata": {},
   "outputs": [],
   "source": [
    "#Load the necessary libraries\n",
    "from langchain.chat_models import ChatOpenAI\n",
    "from langchain.chains import LLMChain\n",
    "from langchain.prompts import PromptTemplate\n",
    "from dotenv import load_dotenv, find_dotenv\n"
   ]
  },
  {
   "cell_type": "code",
   "execution_count": 4,
   "metadata": {},
   "outputs": [
    {
     "data": {
      "text/plain": [
       "True"
      ]
     },
     "execution_count": 4,
     "metadata": {},
     "output_type": "execute_result"
    }
   ],
   "source": [
    "#Load the API keys\n",
    "import os\n",
    "load_dotenv(find_dotenv(), override=True)"
   ]
  },
  {
   "cell_type": "code",
   "execution_count": 5,
   "metadata": {},
   "outputs": [],
   "source": [
    "#Load the LLM model\n",
    "llm = ChatOpenAI(model=\"gpt-3.5-turbo\", temperature=0.4)"
   ]
  },
  {
   "cell_type": "code",
   "execution_count": 7,
   "metadata": {},
   "outputs": [],
   "source": [
    "#Define the prompt template for summarization\n",
    "template = \"Summarize the following text to one sentence: {text}\"\n",
    "prompt = PromptTemplate(\n",
    "    input_variables=[\"text\"],\n",
    "    template=template\n",
    ")\n",
    "\n",
    "#Create a chain for summarizing\n",
    "chain = LLMChain(llm=llm, prompt=prompt)"
   ]
  },
  {
   "cell_type": "code",
   "execution_count": 8,
   "metadata": {},
   "outputs": [],
   "source": [
    "text = 'Ocean acidification is the decrease in the pH of the Earth\\'s ocean. Between 1950 and 2020, the average \\\n",
    "pH of the ocean surface fell from approximately 8.15 to 8.05.[2] Carbon dioxide emissions from human activities \\\n",
    "are the primary cause of ocean acidification, with atmospheric carbon dioxide (CO2) levels exceeding 410 ppm \\\n",
    "(in 2020). CO2 from the atmosphere is absorbed by the oceans. This produces carbonic acid (H2CO3) which \\\n",
    "dissociates into a bicarbonate ion (HCO3) and a hydrogen ion (H+). The presence of free hydrogen ions (H+) \\\n",
    "lowers the pH of the ocean, increasing acidity (this does not mean that seawater is acidic yet; \\\n",
    "it is still alkaline, with a pH higher than 8). Marine calcifying organisms, such as mollusks and corals, \\\n",
    "are especially vulnerable because they rely on calcium carbonate to build shells and skeletons.'\n",
    "\n",
    "summarized_text = chain.predict(text=text)"
   ]
  },
  {
   "cell_type": "code",
   "execution_count": 9,
   "metadata": {},
   "outputs": [
    {
     "name": "stdout",
     "output_type": "stream",
     "text": [
      "Ocean acidification is the decrease in pH of the Earth's ocean, primarily caused by carbon dioxide emissions from human activities, which leads to the absorption of CO2 by the oceans, resulting in the production of carbonic acid and the lowering of ocean pH, posing a threat to marine calcifying organisms.\n"
     ]
    }
   ],
   "source": [
    "print(summarized_text)"
   ]
  }
 ],
 "metadata": {
  "kernelspec": {
   "display_name": ".venv",
   "language": "python",
   "name": "python3"
  },
  "language_info": {
   "codemirror_mode": {
    "name": "ipython",
    "version": 3
   },
   "file_extension": ".py",
   "mimetype": "text/x-python",
   "name": "python",
   "nbconvert_exporter": "python",
   "pygments_lexer": "ipython3",
   "version": "3.10.9"
  }
 },
 "nbformat": 4,
 "nbformat_minor": 2
}
