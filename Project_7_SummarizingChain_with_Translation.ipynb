{
 "cells": [
  {
   "cell_type": "markdown",
   "metadata": {},
   "source": [
    "This code demonstrates Summarizing Chain. Most part of the code is based on a course from ActiveLoop."
   ]
  },
  {
   "cell_type": "code",
   "execution_count": 2,
   "metadata": {},
   "outputs": [
    {
     "name": "stderr",
     "output_type": "stream",
     "text": [
      "d:\\Git\\Generative AI\\.venv\\lib\\site-packages\\deeplake\\util\\check_latest_version.py:32: UserWarning: A newer version of deeplake (3.8.11) is available. It's recommended that you update to the latest version using `pip install -U deeplake`.\n",
      "  warnings.warn(\n"
     ]
    }
   ],
   "source": [
    "#Load the necessary libraries\n",
    "from langchain.chat_models import ChatOpenAI\n",
    "from langchain.chains import LLMChain\n",
    "from langchain.prompts import PromptTemplate\n",
    "from dotenv import load_dotenv, find_dotenv\n"
   ]
  },
  {
   "cell_type": "code",
   "execution_count": 3,
   "metadata": {},
   "outputs": [
    {
     "data": {
      "text/plain": [
       "True"
      ]
     },
     "execution_count": 3,
     "metadata": {},
     "output_type": "execute_result"
    }
   ],
   "source": [
    "#Load the API keys\n",
    "import os\n",
    "load_dotenv(find_dotenv(), override=True)"
   ]
  },
  {
   "cell_type": "code",
   "execution_count": 4,
   "metadata": {},
   "outputs": [],
   "source": [
    "#Load the LLM model\n",
    "llm = ChatOpenAI(model=\"gpt-3.5-turbo\", temperature=0.4)"
   ]
  },
  {
   "cell_type": "code",
   "execution_count": 5,
   "metadata": {},
   "outputs": [],
   "source": [
    "#Define the prompt template for summarization\n",
    "template = \"Summarize the following text to one sentence: {text}\"\n",
    "prompt = PromptTemplate(\n",
    "    input_variables=[\"text\"],\n",
    "    template=template\n",
    ")\n",
    "\n",
    "#Create a chain for summarizing\n",
    "chain = LLMChain(llm=llm, prompt=prompt)"
   ]
  },
  {
   "cell_type": "code",
   "execution_count": 6,
   "metadata": {},
   "outputs": [],
   "source": [
    "text = 'Ocean acidification is the decrease in the pH of the Earth\\'s ocean. Between 1950 and 2020, the average \\\n",
    "pH of the ocean surface fell from approximately 8.15 to 8.05.[2] Carbon dioxide emissions from human activities \\\n",
    "are the primary cause of ocean acidification, with atmospheric carbon dioxide (CO2) levels exceeding 410 ppm \\\n",
    "(in 2020). CO2 from the atmosphere is absorbed by the oceans. This produces carbonic acid (H2CO3) which \\\n",
    "dissociates into a bicarbonate ion (HCO3) and a hydrogen ion (H+). The presence of free hydrogen ions (H+) \\\n",
    "lowers the pH of the ocean, increasing acidity (this does not mean that seawater is acidic yet; \\\n",
    "it is still alkaline, with a pH higher than 8). Marine calcifying organisms, such as mollusks and corals, \\\n",
    "are especially vulnerable because they rely on calcium carbonate to build shells and skeletons.'\n",
    "\n",
    "summarized_text = chain.predict(text=text)"
   ]
  },
  {
   "cell_type": "code",
   "execution_count": 7,
   "metadata": {},
   "outputs": [
    {
     "name": "stdout",
     "output_type": "stream",
     "text": [
      "Ocean acidification is the decrease in pH of the Earth's ocean due to carbon dioxide emissions from human activities, which lowers the pH of the ocean and threatens marine calcifying organisms.\n"
     ]
    }
   ],
   "source": [
    "print(summarized_text)"
   ]
  },
  {
   "cell_type": "markdown",
   "metadata": {},
   "source": [
    "Below code demonstrates that the same setup can be used to translate a given text from one language to another."
   ]
  },
  {
   "cell_type": "code",
   "execution_count": 8,
   "metadata": {},
   "outputs": [],
   "source": [
    "#Define the prompt template for summarization\n",
    "template = \"Translate the following text from {source_language} to {target_language}: {text}\"\n",
    "prompt = PromptTemplate(\n",
    "    input_variables=[\"source_language\", \"target_language\",\"text\"],\n",
    "    template=template\n",
    ")\n",
    "\n",
    "#Create a chain for summarizing\n",
    "chain = LLMChain(llm=llm, prompt=prompt)"
   ]
  },
  {
   "cell_type": "code",
   "execution_count": 9,
   "metadata": {},
   "outputs": [],
   "source": [
    "source_language = 'English'\n",
    "target_language = 'Dutch'\n",
    "\n",
    "translated_text = chain.predict(source_language=source_language, target_language=target_language, text=text)"
   ]
  },
  {
   "cell_type": "code",
   "execution_count": 10,
   "metadata": {},
   "outputs": [
    {
     "name": "stdout",
     "output_type": "stream",
     "text": [
      "Ocean acidification is de afname van de pH van de oceaan van de aarde. Tussen 1950 en 2020 daalde de gemiddelde pH van het oceaanoppervlak van ongeveer 8,15 naar 8,05. Koolstofdioxide-uitstoot door menselijke activiteiten is de voornaamste oorzaak van ocean acidification, met atmosferische koolstofdioxide (CO2) niveaus die meer dan 410 ppm (in 2020) overschrijden. CO2 uit de atmosfeer wordt opgenomen door de oceanen. Dit produceert koolzuur (H2CO3) dat uiteenvalt in een bicarbonaation (HCO3) en een waterstofion (H+). De aanwezigheid van vrije waterstofionen (H+) verlaagt de pH van de oceaan, waardoor de zuurgraad toeneemt (dit betekent niet dat zeewater al zuur is; het is nog steeds alkalisch, met een pH hoger dan 8). Mariene calcificerende organismen, zoals weekdieren en koralen, zijn bijzonder kwetsbaar omdat ze vertrouwen op calciumcarbonaat om schelpen en skeletten te bouwen.\n"
     ]
    }
   ],
   "source": [
    "print(translated_text)"
   ]
  }
 ],
 "metadata": {
  "kernelspec": {
   "display_name": ".venv",
   "language": "python",
   "name": "python3"
  },
  "language_info": {
   "codemirror_mode": {
    "name": "ipython",
    "version": 3
   },
   "file_extension": ".py",
   "mimetype": "text/x-python",
   "name": "python",
   "nbconvert_exporter": "python",
   "pygments_lexer": "ipython3",
   "version": "3.10.9"
  }
 },
 "nbformat": 4,
 "nbformat_minor": 2
}
