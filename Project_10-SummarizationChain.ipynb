{
 "cells": [
  {
   "cell_type": "markdown",
   "metadata": {},
   "source": [
    "This code demonstrates Summarization chain. Most part of the code is based on a course from ActiveLoop."
   ]
  },
  {
   "cell_type": "code",
   "execution_count": 4,
   "metadata": {},
   "outputs": [],
   "source": [
    "from langchain import OpenAI, PromptTemplate\n",
    "from langchain.chains.summarize import load_summarize_chain\n",
    "from langchain.document_loaders import PyPDFLoader\n",
    "from dotenv import load_dotenv, find_dotenv"
   ]
  },
  {
   "cell_type": "code",
   "execution_count": 2,
   "metadata": {},
   "outputs": [
    {
     "data": {
      "text/plain": [
       "True"
      ]
     },
     "execution_count": 2,
     "metadata": {},
     "output_type": "execute_result"
    }
   ],
   "source": [
    "import os\n",
    "load_dotenv(find_dotenv(), override=True)"
   ]
  },
  {
   "cell_type": "code",
   "execution_count": 7,
   "metadata": {},
   "outputs": [],
   "source": [
    "#Load the LLM Model\n",
    "llm = OpenAI(model=\"text-davinci-003\", temperature=0.5)\n",
    "\n",
    "#Load the summarization chain\n",
    "chain = load_summarize_chain(llm)\n",
    "\n",
    "#Load the document\n",
    "document_loader = PyPDFLoader(\"./India.pdf\")\n",
    "document = document_loader.load()"
   ]
  },
  {
   "cell_type": "code",
   "execution_count": 9,
   "metadata": {},
   "outputs": [
    {
     "name": "stdout",
     "output_type": "stream",
     "text": [
      "\n",
      "The Constitution of India outlines the Union and its Territory, including the States and Union Territories, which can be acquired, admitted, or established by law. Parliament can also form new States by separating territory, increasing or decreasing an area, altering boundaries, or changing a name. Laws made under articles 2 and 3 provide for the amendment of the First and Fourth Schedules, and for supplemental, incidental, and consequential matters.\n"
     ]
    }
   ],
   "source": [
    "#Summarize the document\n",
    "summary = chain(document)\n",
    "print(summary['output_text'])"
   ]
  }
 ],
 "metadata": {
  "kernelspec": {
   "display_name": ".venv",
   "language": "python",
   "name": "python3"
  },
  "language_info": {
   "codemirror_mode": {
    "name": "ipython",
    "version": 3
   },
   "file_extension": ".py",
   "mimetype": "text/x-python",
   "name": "python",
   "nbconvert_exporter": "python",
   "pygments_lexer": "ipython3",
   "version": "3.10.9"
  }
 },
 "nbformat": 4,
 "nbformat_minor": 2
}
