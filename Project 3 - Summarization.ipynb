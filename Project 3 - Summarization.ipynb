{
 "cells": [
  {
   "cell_type": "markdown",
   "metadata": {},
   "source": [
    "### This code is based on an online course by Andrei Dumitrescu (Crystal Mind Academy)"
   ]
  },
  {
   "cell_type": "markdown",
   "metadata": {},
   "source": [
    "#### This code summarizes a given text based on Langchain and OpenAI"
   ]
  },
  {
   "cell_type": "code",
   "execution_count": 1,
   "metadata": {},
   "outputs": [
    {
     "data": {
      "text/plain": [
       "True"
      ]
     },
     "execution_count": 1,
     "metadata": {},
     "output_type": "execute_result"
    }
   ],
   "source": [
    "import os\n",
    "from dotenv import find_dotenv, load_dotenv\n",
    "load_dotenv(find_dotenv(), override=True)"
   ]
  },
  {
   "cell_type": "markdown",
   "metadata": {},
   "source": [
    "#### 1. Basic Prompt"
   ]
  },
  {
   "cell_type": "code",
   "execution_count": 2,
   "metadata": {},
   "outputs": [],
   "source": [
    "from langchain.chat_models import ChatOpenAI\n",
    "from langchain.schema import (\n",
    "    AIMessage,\n",
    "    HumanMessage,\n",
    "    SystemMessage\n",
    ")"
   ]
  },
  {
   "cell_type": "code",
   "execution_count": 3,
   "metadata": {},
   "outputs": [],
   "source": [
    "text = '''Qiskit is open-source software for working with quantum computers at the level of circuits, \\\n",
    "pulses, and algorithms.\n",
    "The central goal of Qiskit is to build a software stack that makes it easy for anyone to use quantum \\\n",
    "computers, regardless of their skill level or area of interest; Qiskit allows one to easily design \\\n",
    "experiments and applications and run them on real quantum computers or classical simulators. \\\n",
    "Qiskit is already in use around the world by beginners, hobbyists, educators, researchers, and commercial companies.'''\n",
    "messages = [\n",
    "    SystemMessage(content='Your are an expert copywriter with expertize in summarizing documents'),\n",
    "    HumanMessage(content=f'Please provide a short and crisp summary of the the following text: {text}')\n",
    "]\n",
    "\n",
    "llm = ChatOpenAI(model = 'gpt-3.5-turbo', temperature=0)"
   ]
  },
  {
   "cell_type": "code",
   "execution_count": 4,
   "metadata": {},
   "outputs": [
    {
     "data": {
      "text/plain": [
       "104"
      ]
     },
     "execution_count": 4,
     "metadata": {},
     "output_type": "execute_result"
    }
   ],
   "source": [
    "llm.get_num_tokens(text)"
   ]
  },
  {
   "cell_type": "code",
   "execution_count": 5,
   "metadata": {},
   "outputs": [
    {
     "name": "stdout",
     "output_type": "stream",
     "text": [
      "Qiskit is an open-source software that enables users to work with quantum computers at various levels. Its main objective is to create a user-friendly software stack that allows anyone, regardless of their expertise or field, to utilize quantum computers. Qiskit facilitates the design and execution of experiments and applications on real quantum computers or classical simulators. It is widely used by beginners, hobbyists, educators, researchers, and commercial companies globally.\n"
     ]
    }
   ],
   "source": [
    "summary_output = llm(messages)\n",
    "\n",
    "print(summary_output.content)"
   ]
  },
  {
   "cell_type": "markdown",
   "metadata": {},
   "source": [
    "#### 2. Summarizing using Prompt Templates"
   ]
  },
  {
   "cell_type": "code",
   "execution_count": 6,
   "metadata": {},
   "outputs": [],
   "source": [
    "from langchain import PromptTemplate\n",
    "from langchain.chains import LLMChain"
   ]
  },
  {
   "cell_type": "code",
   "execution_count": 7,
   "metadata": {},
   "outputs": [],
   "source": [
    "template = ''' \n",
    "Write a brief summary of the following text:\n",
    "TEXT: `{text}`\n",
    "Translate the summary to {language}.'''\n",
    "\n",
    "prompt = PromptTemplate(\n",
    "    input_variables=['text','language'],\n",
    "    template=template\n",
    ")"
   ]
  },
  {
   "cell_type": "code",
   "execution_count": 8,
   "metadata": {},
   "outputs": [
    {
     "data": {
      "text/plain": [
       "124"
      ]
     },
     "execution_count": 8,
     "metadata": {},
     "output_type": "execute_result"
    }
   ],
   "source": [
    "llm.get_num_tokens(prompt.format(text=text, language=\"English\"))"
   ]
  },
  {
   "cell_type": "code",
   "execution_count": 9,
   "metadata": {},
   "outputs": [
    {
     "name": "stdout",
     "output_type": "stream",
     "text": [
      "Qiskit is open-source software waarmee je kunt werken met quantumcomputers op het niveau van circuits, pulsen en algoritmes. Het belangrijkste doel van Qiskit is het bouwen van een softwarestack die het voor iedereen gemakkelijk maakt om quantumcomputers te gebruiken, ongeacht hun vaardigheidsniveau of interessegebied. Met Qiskit kun je eenvoudig experimenten en toepassingen ontwerpen en ze uitvoeren op echte quantumcomputers of klassieke simulators. Qiskit wordt wereldwijd al gebruikt door beginners, hobbyisten, docenten, onderzoekers en commerciële bedrijven.\n"
     ]
    }
   ],
   "source": [
    "chain = LLMChain(llm=llm, prompt=prompt)\n",
    "summary = chain.run({'text':text, 'language':'dutch'})\n",
    "\n",
    "print(summary)"
   ]
  },
  {
   "cell_type": "markdown",
   "metadata": {},
   "source": [
    "#### 3. Summarizing using StuffDocumentChain"
   ]
  },
  {
   "cell_type": "code",
   "execution_count": 11,
   "metadata": {},
   "outputs": [],
   "source": [
    "from langchain import PromptTemplate\n",
    "from langchain.chat_models import ChatOpenAI\n",
    "from langchain.chains.summarize import load_summarize_chain\n",
    "from langchain.docstore.document import Document"
   ]
  },
  {
   "cell_type": "code",
   "execution_count": 12,
   "metadata": {},
   "outputs": [],
   "source": [
    "with open('gc.txt') as f:\n",
    "    text = f.read()\n",
    "\n",
    "docs = [Document(page_content=text)]\n",
    "llm = ChatOpenAI(model='gpt-3.5-turbo', temperature=0)"
   ]
  },
  {
   "cell_type": "code",
   "execution_count": 14,
   "metadata": {},
   "outputs": [],
   "source": [
    "template = '''Write a concise and short summary of the following text.\n",
    "TEXT: `{text}`'''\n",
    "\n",
    "prompt = PromptTemplate(input_variables=['text'], template=template)"
   ]
  },
  {
   "cell_type": "code",
   "execution_count": 15,
   "metadata": {},
   "outputs": [],
   "source": [
    "chain = load_summarize_chain(llm, chain_type='stuff', prompt=prompt, verbose=False)\n",
    "\n",
    "output_summary = chain.run(docs)"
   ]
  },
  {
   "cell_type": "code",
   "execution_count": 16,
   "metadata": {},
   "outputs": [
    {
     "name": "stdout",
     "output_type": "stream",
     "text": [
      "Ice cores drilled from a glacier in the Himalayan Mountains have provided a detailed record of the Earth's climate over the past 1,000 years. The analysis of the ice shows that the last decade and the last 50 years were the warmest in 1,000 years. The ice cores also reveal at least eight major droughts caused by a failure of the South Asian Monsoon, including a catastrophic seven-year-long dry spell that resulted in the deaths of over 600,000 people. The research suggests that human activity is at least partially responsible for the warming and climate changes observed.\n"
     ]
    }
   ],
   "source": [
    "print(output_summary)"
   ]
  },
  {
   "cell_type": "markdown",
   "metadata": {},
   "source": [
    "#### 4. Summarizing Large Documents using map_reduce"
   ]
  },
  {
   "cell_type": "code",
   "execution_count": 17,
   "metadata": {},
   "outputs": [],
   "source": [
    "from langchain import PromptTemplate\n",
    "from langchain.chat_models import ChatOpenAI\n",
    "from langchain.chains.summarize import load_summarize_chain\n",
    "from langchain.text_splitter import RecursiveCharacterTextSplitter"
   ]
  },
  {
   "cell_type": "code",
   "execution_count": 18,
   "metadata": {},
   "outputs": [],
   "source": [
    "with open('gc.txt') as f:\n",
    "    text = f.read()\n",
    "\n",
    "llm = ChatOpenAI(model='gpt-3.5-turbo', temperature=0)"
   ]
  },
  {
   "cell_type": "code",
   "execution_count": 19,
   "metadata": {},
   "outputs": [
    {
     "data": {
      "text/plain": [
       "1400"
      ]
     },
     "execution_count": 19,
     "metadata": {},
     "output_type": "execute_result"
    }
   ],
   "source": [
    "llm.get_num_tokens(text)"
   ]
  },
  {
   "cell_type": "code",
   "execution_count": 20,
   "metadata": {},
   "outputs": [
    {
     "data": {
      "text/plain": [
       "2"
      ]
     },
     "execution_count": 20,
     "metadata": {},
     "output_type": "execute_result"
    }
   ],
   "source": [
    "text_splitter = RecursiveCharacterTextSplitter(chunk_size=5000, chunk_overlap=50)\n",
    "chunks = text_splitter.create_documents([text])\n",
    "len(chunks)"
   ]
  },
  {
   "cell_type": "code",
   "execution_count": 21,
   "metadata": {},
   "outputs": [
    {
     "name": "stdout",
     "output_type": "stream",
     "text": [
      "Ice cores from a glacier in the Himalayan Mountains show that the last decade and the last 50 years were the warmest in the past 1,000 years. The cores also reveal evidence of major droughts caused by a failure of the South Asian Monsoon, including a seven-year dry spell that resulted in over 600,000 deaths. Human activity is believed to have contributed to the warming, and the research highlights the potential for future disruptions due to climate change.\n"
     ]
    }
   ],
   "source": [
    "chain = load_summarize_chain(llm, chain_type='map_reduce', verbose=False)\n",
    "output_summary = chain.run(chunks)\n",
    "print(output_summary)"
   ]
  },
  {
   "cell_type": "markdown",
   "metadata": {},
   "source": [
    "#### 5. Map_reduce with Custom Prompts"
   ]
  },
  {
   "cell_type": "code",
   "execution_count": 22,
   "metadata": {},
   "outputs": [],
   "source": [
    "map_prompt = '''\n",
    "Write a brief summary of the following:\n",
    "TEXT: `{text}`\n",
    "CONCISE SUMMARY:'''\n",
    "\n",
    "map_prompt_template = PromptTemplate(input_variables=['text'], template=map_prompt)"
   ]
  },
  {
   "cell_type": "code",
   "execution_count": 23,
   "metadata": {},
   "outputs": [],
   "source": [
    "combine_prompt = '''\n",
    "Write a concise summary of the following text that covers the key points.\n",
    "Add a title to the summary. Start you summary with an INTRODUCTION that gives an overview of the topic followed\n",
    "by BULLET POINTS and end the summary with a CONCLUSION remark.\n",
    "TEXT: `{text}`'''\n",
    "\n",
    "combine_prompt_template = PromptTemplate(input_variables=['text'], template=combine_prompt)"
   ]
  },
  {
   "cell_type": "code",
   "execution_count": 24,
   "metadata": {
    "scrolled": true
   },
   "outputs": [
    {
     "name": "stderr",
     "output_type": "stream",
     "text": [
      "Retrying langchain.chat_models.openai.ChatOpenAI.completion_with_retry.<locals>._completion_with_retry in 4.0 seconds as it raised RateLimitError: Rate limit reached for default-gpt-3.5-turbo in organization org-5ZMsMU0OykrDIa8DDEpvJrpf on requests per min. Limit: 3 / min. Please try again in 20s. Contact us through our help center at help.openai.com if you continue to have issues. Please add a payment method to your account to increase your rate limit. Visit https://platform.openai.com/account/billing to add a payment method..\n",
      "Retrying langchain.chat_models.openai.ChatOpenAI.completion_with_retry.<locals>._completion_with_retry in 4.0 seconds as it raised RateLimitError: Rate limit reached for default-gpt-3.5-turbo in organization org-5ZMsMU0OykrDIa8DDEpvJrpf on requests per min. Limit: 3 / min. Please try again in 20s. Contact us through our help center at help.openai.com if you continue to have issues. Please add a payment method to your account to increase your rate limit. Visit https://platform.openai.com/account/billing to add a payment method..\n"
     ]
    },
    {
     "name": "stdout",
     "output_type": "stream",
     "text": [
      "Title: Ice cores reveal warming trends and droughts in the Himalayas\n",
      "\n",
      "Introduction:\n",
      "Ice cores drilled from a glacier in the Himalayan Mountains provide a detailed climate record of the past 1,000 years. The analysis of these ice cores reveals warming trends and major droughts, with evidence suggesting human activity's contribution to recent warming.\n",
      "\n",
      "Key Points:\n",
      "- The last decade and the last 50 years were the warmest in the past 1,000 years, according to the analysis of the ice cores.\n",
      "- At least eight major droughts caused by a failure of the South Asian Monsoon were identified in the ice cores, including a catastrophic seven-year-long dry spell resulting in over 600,000 deaths.\n",
      "- The research, supported by the National Science Foundation, suggests that human activity has contributed to the observed warming in the late 20th century.\n",
      "- The ice core record shows instances of monsoon failures and droughts, with the most devastating one occurring in 1790. The cause of these failures remains unknown.\n",
      "- Data from the last century indicates that human activities have contributed to climate change in the region, leading to increased drying and desertification.\n",
      "- The disappearance of 75 percent of the ice on Kilimanjaro since 1912 is attributed, in part, to global warming, providing further evidence for human-driven warming.\n",
      "\n",
      "Conclusion:\n",
      "The analysis of ice cores from the Himalayas reveals warming trends and major droughts over the past 1,000 years. The evidence suggests that human activity has contributed to recent warming, highlighting the need for action to mitigate climate change and its impacts.\n"
     ]
    }
   ],
   "source": [
    "summary_chain = load_summarize_chain(llm=llm, chain_type='map_reduce', map_prompt=map_prompt_template, combine_prompt=combine_prompt_template, verbose=False)\n",
    "\n",
    "output_summary = summary_chain.run(chunks)\n",
    "\n",
    "print(output_summary)"
   ]
  },
  {
   "cell_type": "markdown",
   "metadata": {},
   "source": [
    "#### 6. Summarizing using Refine Chain"
   ]
  },
  {
   "cell_type": "code",
   "execution_count": 39,
   "metadata": {},
   "outputs": [],
   "source": [
    "from langchain.chat_models import ChatOpenAI\n",
    "from langchain import PromptTemplate\n",
    "from langchain.chains.summarize import load_summarize_chain\n",
    "from langchain.text_splitter import RecursiveCharacterTextSplitter\n"
   ]
  },
  {
   "cell_type": "code",
   "execution_count": 46,
   "metadata": {},
   "outputs": [],
   "source": [
    "with open('Relevance.txt', encoding='utf-8') as f:\n",
    "    text = f.read()\n",
    "\n",
    "llm = ChatOpenAI(model='gpt-3.5-turbo', temperature=0)"
   ]
  },
  {
   "cell_type": "code",
   "execution_count": 47,
   "metadata": {},
   "outputs": [
    {
     "data": {
      "text/plain": [
       "7232"
      ]
     },
     "execution_count": 47,
     "metadata": {},
     "output_type": "execute_result"
    }
   ],
   "source": [
    "llm.get_num_tokens(text)"
   ]
  },
  {
   "cell_type": "code",
   "execution_count": 58,
   "metadata": {},
   "outputs": [
    {
     "data": {
      "text/plain": [
       "3"
      ]
     },
     "execution_count": 58,
     "metadata": {},
     "output_type": "execute_result"
    }
   ],
   "source": [
    "text_splitter = RecursiveCharacterTextSplitter(chunk_size=15000, chunk_overlap=50)\n",
    "chunks = text_splitter.create_documents([text])\n",
    "len(chunks)"
   ]
  },
  {
   "cell_type": "code",
   "execution_count": 59,
   "metadata": {},
   "outputs": [],
   "source": [
    "chain = load_summarize_chain(llm=llm, chain_type='refine', verbose=False)\n",
    "\n",
    "output_summary = chain.run(chunks)"
   ]
  },
  {
   "cell_type": "code",
   "execution_count": 60,
   "metadata": {},
   "outputs": [
    {
     "name": "stdout",
     "output_type": "stream",
     "text": [
      "This paper proposes a new performance metric called Relevance Score (RS) for evaluating supervised learning algorithms in machine learning. The authors argue that the commonly used Classification Accuracy (CA) metric is not suitable for certain applications where there is randomness in the output and multiple acceptable outcomes. The Relevance Score is based on probabilistic distances between predicted and actual outcomes and aims to measure how relevant the predicted outcome is for a given observed context. The authors evaluate the proposed metric on a dataset from an intelligent lighting pilot installation and compare it to the CA metric, finding that the Relevance Score is more appropriate for this type of application. The authors also investigate the influence of different parameters on the Relevance Score and test it on a dataset with randomly generated output. Overall, the results suggest that the Relevance Score is a better metric for evaluating machine learning algorithms in applications where the relevance of predictions is critical. The paper includes references to related work in the field of machine learning and performance evaluation.\n"
     ]
    }
   ],
   "source": [
    "print(output_summary)"
   ]
  },
  {
   "cell_type": "markdown",
   "metadata": {},
   "source": [
    "#### 7. Refine with Custom Prompts"
   ]
  },
  {
   "cell_type": "code",
   "execution_count": 66,
   "metadata": {},
   "outputs": [],
   "source": [
    "template =  ''' Write a concise summary of the following extracting the important information:\n",
    "TEXT: `{text}`\n",
    "CONCISE SUMMARY:'''\n",
    "initial_prompt = PromptTemplate(input_variables=['text'], template=template)\n",
    "\n",
    "refine_template = ''' Your job is to produce a final summary. I have provided an existing summary up to a certain point: {existing_answer}.\n",
    "Please refine the existing summary with more context available below.\n",
    "----------------------------\n",
    "{text}\n",
    "----------------------------\n",
    "Start the final summary with an INTRODUCTION, which gives an overview of the topic followed by BULLET points and end the summary with CONCLUSION.'''\n",
    "\n",
    "refine_prompt = PromptTemplate(input_variables=['existing_answer','text'], template=refine_template)\n"
   ]
  },
  {
   "cell_type": "code",
   "execution_count": 67,
   "metadata": {},
   "outputs": [],
   "source": [
    "chain = load_summarize_chain(llm=llm, chain_type='refine', question_prompt=initial_prompt, refine_prompt=refine_prompt, verbose=False)\n",
    "\n",
    "output_summary = chain.run(chunks)"
   ]
  },
  {
   "cell_type": "code",
   "execution_count": 68,
   "metadata": {},
   "outputs": [
    {
     "name": "stdout",
     "output_type": "stream",
     "text": [
      "Introduction:\n",
      "The paper discusses the importance of choosing the right performance metric for evaluating machine learning algorithms in different application domains. The authors propose a new metric called Relevance Score (RS) that is based on probabilistic distances among different outcomes. They evaluate the proposed metric on a dataset from an intelligent lighting pilot installation and compare it to the commonly used Classification Accuracy metric. The results show that the Relevance Score is more appropriate for certain applications.\n",
      "\n",
      "Bullet points:\n",
      "- The authors introduce the concept of Relevance Score (RS) as a new performance metric for evaluating machine learning algorithms.\n",
      "- RS is based on probabilistic distances among different outcomes and takes into account the relevance of the predicted outcomes.\n",
      "- The authors evaluate the RS metric on a dataset from an intelligent lighting pilot installation.\n",
      "- They compare the performance of RS with the commonly used Classification Accuracy (CA) metric.\n",
      "- The results show that RS is more suitable for certain applications, especially those where the relevance of predictions is critical.\n",
      "- The authors also investigate the influence of different parameters on the RS metric and find that it can be customized based on the application requirements.\n",
      "\n",
      "Conclusion:\n",
      "In conclusion, the Relevance Score (RS) metric proposed by the authors provides a more suitable performance evaluation for machine learning algorithms in certain applications. It takes into account the relevance of the predicted outcomes and can be customized based on the specific requirements of the application. The results of the evaluation on the intelligent lighting dataset demonstrate the effectiveness of the RS metric compared to the commonly used Classification Accuracy metric. The authors' work contributes to the field of machine learning evaluation by introducing a new metric that addresses the limitations of existing metrics and provides a more comprehensive assessment of algorithm performance.\n"
     ]
    }
   ],
   "source": [
    "print(output_summary)"
   ]
  },
  {
   "cell_type": "markdown",
   "metadata": {},
   "source": [
    "#### 8. Summarizing with Langchain Agents"
   ]
  },
  {
   "cell_type": "code",
   "execution_count": 69,
   "metadata": {},
   "outputs": [],
   "source": [
    "from langchain.chat_models import ChatOpenAI\n",
    "from langchain.agents import initialize_agent, Tool\n",
    "from langchain.utilities import WikipediaAPIWrapper"
   ]
  },
  {
   "cell_type": "code",
   "execution_count": 70,
   "metadata": {},
   "outputs": [],
   "source": [
    "llm = ChatOpenAI(model='gpt-3.5-turbo', temperature=0)\n",
    "wiki = WikipediaAPIWrapper()"
   ]
  },
  {
   "cell_type": "code",
   "execution_count": 73,
   "metadata": {},
   "outputs": [],
   "source": [
    "tools = [ Tool(name=\"Wikipedia\", func=wiki.run, description=\"Useful when you need to get information from Wikipedia about a topic\")]\n",
    "\n",
    "agent_executor = initialize_agent(tools=tools, llm=llm, agent='zero-shot-react-description', verbose=True)\n"
   ]
  },
  {
   "cell_type": "code",
   "execution_count": 74,
   "metadata": {},
   "outputs": [
    {
     "name": "stdout",
     "output_type": "stream",
     "text": [
      "\n",
      "\n",
      "\u001b[1m> Entering new AgentExecutor chain...\u001b[0m\n",
      "\u001b[32;1m\u001b[1;3mI should look up the definition and causes of global warming\n",
      "Action: Wikipedia\n",
      "Action Input: Global warming\u001b[0m\n",
      "Observation: \u001b[36;1m\u001b[1;3mPage: Climate change\n",
      "Summary: In common usage, climate change describes global warming—the ongoing increase in global average temperature—and its effects on Earth's climate system. Climate change in a broader sense also includes previous long-term changes to Earth's climate. The current rise in global average temperature is more rapid than previous changes, and is primarily caused by humans burning fossil fuels. Fossil fuel use, deforestation, and some agricultural and industrial practices increase greenhouse gases, notably carbon dioxide and methane. Greenhouse gases absorb some of the heat that the Earth radiates after it warms from sunlight. Larger amounts of these gases trap more heat in Earth's lower atmosphere, causing global warming.\n",
      "Climate change is causing a range of increasing impacts on the environment. Deserts are expanding, while heat waves and wildfires are becoming more common. Amplified warming in the Arctic has contributed to melting permafrost, glacial retreat and sea ice loss. Higher temperatures are also causing more intense storms, droughts, and other weather extremes. Rapid environmental change in mountains, coral reefs, and the Arctic is forcing many species to relocate or become extinct. Even if efforts to minimise future warming are successful, some effects will continue for centuries. These include ocean heating, ocean acidification and sea level rise.Climate change threatens people with increased flooding, extreme heat, increased food and water scarcity, more disease, and economic loss. Human migration and conflict can also be a result. The World Health Organization (WHO) calls climate change the greatest threat to global health in the 21st century. Societies and ecosystems will experience more severe risks without action to limit warming. Adapting to climate change through efforts like flood control measures or drought-resistant crops partially reduces climate change risks, although some limits to adaptation have already been reached. Poorer communities are responsible for a small share of global emissions, yet have the least ability to adapt and are most vulnerable to climate change.Many climate change impacts are already felt at the current 1.2 °C (2.2 °F) level of warming. Additional warming will increase these impacts and can trigger tipping points, such as the melting of the Greenland ice sheet. Under the 2015 Paris Agreement, nations collectively agreed to keep warming \"well under 2 °C\". However, with pledges made under the Agreement, global warming would still reach about 2.7 °C (4.9 °F) by the end of the century. Limiting warming to 1.5 °C will require halving emissions by 2030 and achieving net-zero emissions by 2050.\n",
      "\n",
      "Reducing emissions requires generating electricity from low-carbon sources rather than burning fossil fuels. This change includes phasing out coal and natural gas fired power plants, vastly increasing use of wind, solar, nuclear and other types of renewable energy, and reducing energy use. Electricity generated from non-carbon-emitting sources will need to replace fossil fuels for powering transportation, heating buildings, and operating industrial facilities. Carbon can also be removed from the atmosphere, for instance by increasing forest cover and farming with methods that capture carbon in soil.\n",
      "\n",
      "\n",
      "\n",
      "Page: Global warming controversy\n",
      "Summary: The global warming controversy concerns the public debate over whether global warming is occurring, how much has occurred in modern times, what has caused it, what its effects will be, whether any action can or should be taken to curb it, and if so what that action should be. In the scientific literature, there is a very strong consensus that global surface temperatures have increased in recent decades and that the trend is caused by human-induced emissions of greenhouse gases. No scientific body of national or international standing disagrees with this view, though a few organizations with members in extractive industries hold non-com\u001b[0m\n",
      "Thought:\u001b[32;1m\u001b[1;3mI now know the final answer\n",
      "Final Answer: Global warming refers to the ongoing increase in global average temperature caused primarily by humans burning fossil fuels. It is leading to climate change, which includes impacts such as expanding deserts, heat waves, wildfires, melting permafrost, glacial retreat, sea ice loss, intense storms, droughts, and other weather extremes. Climate change threatens people with increased flooding, extreme heat, increased food and water scarcity, more disease, and economic loss. It is considered the greatest threat to global health in the 21st century. Efforts to reduce emissions and limit warming are necessary to mitigate these impacts.\u001b[0m\n",
      "\n",
      "\u001b[1m> Finished chain.\u001b[0m\n"
     ]
    }
   ],
   "source": [
    "output_summary = agent_executor.run(\"Please provide a short summary of Global Warming\")"
   ]
  },
  {
   "cell_type": "code",
   "execution_count": 75,
   "metadata": {},
   "outputs": [
    {
     "name": "stdout",
     "output_type": "stream",
     "text": [
      "Global warming refers to the ongoing increase in global average temperature caused primarily by humans burning fossil fuels. It is leading to climate change, which includes impacts such as expanding deserts, heat waves, wildfires, melting permafrost, glacial retreat, sea ice loss, intense storms, droughts, and other weather extremes. Climate change threatens people with increased flooding, extreme heat, increased food and water scarcity, more disease, and economic loss. It is considered the greatest threat to global health in the 21st century. Efforts to reduce emissions and limit warming are necessary to mitigate these impacts.\n"
     ]
    }
   ],
   "source": [
    "print(output_summary)"
   ]
  },
  {
   "cell_type": "code",
   "execution_count": null,
   "metadata": {},
   "outputs": [],
   "source": []
  }
 ],
 "metadata": {
  "kernelspec": {
   "display_name": "Python 3 (ipykernel)",
   "language": "python",
   "name": "python3"
  },
  "language_info": {
   "codemirror_mode": {
    "name": "ipython",
    "version": 3
   },
   "file_extension": ".py",
   "mimetype": "text/x-python",
   "name": "python",
   "nbconvert_exporter": "python",
   "pygments_lexer": "ipython3",
   "version": "3.10.9"
  }
 },
 "nbformat": 4,
 "nbformat_minor": 2
}
